{
  "nbformat": 4,
  "nbformat_minor": 0,
  "metadata": {
    "colab": {
      "provenance": [],
      "mount_file_id": "19I4RpQQRv6YGNV-1Bny9Krqr8OwKlguT",
      "authorship_tag": "ABX9TyP1TacoDhK49DWVQe39ex1A",
      "include_colab_link": true
    },
    "kernelspec": {
      "name": "python3",
      "display_name": "Python 3"
    },
    "language_info": {
      "name": "python"
    }
  },
  "cells": [
    {
      "cell_type": "markdown",
      "metadata": {
        "id": "view-in-github",
        "colab_type": "text"
      },
      "source": [
        "<a href=\"https://colab.research.google.com/github/Mukiti-Ryan/IS_Project_Presentation/blob/main/Churn_Model_(Work_GB).ipynb\" target=\"_parent\"><img src=\"https://colab.research.google.com/assets/colab-badge.svg\" alt=\"Open In Colab\"/></a>"
      ]
    },
    {
      "cell_type": "code",
      "execution_count": 1,
      "metadata": {
        "id": "xO5Ht5ly3wd2"
      },
      "outputs": [],
      "source": [
        "import pandas as pd\n",
        "import numpy as np\n",
        "import seaborn as sns\n",
        "import matplotlib.pyplot as plt\n",
        "import pickle\n",
        "\n",
        "from sklearn.model_selection import train_test_split\n",
        "from sklearn.metrics import accuracy_score, confusion_matrix, classification_report\n",
        "from sklearn.ensemble import GradientBoostingClassifier"
      ]
    },
    {
      "cell_type": "code",
      "source": [
        "df = pd.read_csv('/content/drive/MyDrive/IS Project 2 Datasets/churnmodel.csv')\n",
        "\n",
        "df.shape"
      ],
      "metadata": {
        "colab": {
          "base_uri": "https://localhost:8080/"
        },
        "id": "AHHd0tyy4Swe",
        "outputId": "f7001f52-f3c1-4e6c-ffb7-5acc0b4613ae"
      },
      "execution_count": null,
      "outputs": [
        {
          "output_type": "stream",
          "name": "stderr",
          "text": [
            "/usr/local/lib/python3.8/dist-packages/IPython/core/interactiveshell.py:3326: DtypeWarning: Columns (1) have mixed types.Specify dtype option on import or set low_memory=False.\n",
            "  exec(code_obj, self.user_global_ns, self.user_ns)\n"
          ]
        },
        {
          "output_type": "execute_result",
          "data": {
            "text/plain": [
              "(1000000, 16)"
            ]
          },
          "metadata": {},
          "execution_count": 2
        }
      ]
    },
    {
      "cell_type": "code",
      "source": [
        "df.head()"
      ],
      "metadata": {
        "colab": {
          "base_uri": "https://localhost:8080/",
          "height": 319
        },
        "id": "DhWzcoHu4Z5-",
        "outputId": "ede745af-887c-473b-fac3-2250bd16a094"
      },
      "execution_count": null,
      "outputs": [
        {
          "output_type": "execute_result",
          "data": {
            "text/plain": [
              "   Unnamed: 0       CD_ACCOUNT      STATUS2  DAYS_ACC_OPEN  CD_TYPE  \\\n",
              "0           0  1100000000000.0  NOT CHURNED           6173     1062   \n",
              "1           1  1100000000000.0      CHURNED           6163     1062   \n",
              "2           2  1100000000000.0      CHURNED           6152     1062   \n",
              "3           3  1100000000000.0      CHURNED           6124     1062   \n",
              "4           4  1100000000000.0  NOT CHURNED           6117     1062   \n",
              "\n",
              "   VL_CREDIT_RECENCY  VL_DEBIT_RECENCY  VL_TENOR  AVGCREDITTURNOVER_LY  \\\n",
              "0               21.0               0.0    6170.0             438197.26   \n",
              "1              313.0               0.0    6118.0               1666.66   \n",
              "2             2126.0            1949.0    6132.0                  0.00   \n",
              "3              982.0               0.0    5770.0                  0.00   \n",
              "4                0.0               0.0    6091.0               4126.41   \n",
              "\n",
              "   AVGDEBITTURNOVER_LY  AVGCREDIT_TRANS_LY  AVGDEBIT_TRANS_LY  \\\n",
              "0           -474788.26                3.08              93.66   \n",
              "1             -6590.41                0.16               1.25   \n",
              "2                 0.00                0.00               0.00   \n",
              "3             -1220.00                0.00               0.41   \n",
              "4              -200.50                1.08               3.66   \n",
              "\n",
              "   AVGCREDITTURNOVER_LY2  AVGDEBITTURNOVER_LY2  AVGCREDIT_TRANS_LY2  \\\n",
              "0              720779.28            -748023.72                 6.33   \n",
              "1                1666.66              -9322.83                 0.16   \n",
              "2                   0.00                  0.00                 0.00   \n",
              "3                   0.00              -2102.00                 0.00   \n",
              "4                7935.41               -395.00                 2.08   \n",
              "\n",
              "   AVGDEBIT_TRANS_LY2  \n",
              "0              133.41  \n",
              "1                3.08  \n",
              "2                0.00  \n",
              "3                0.91  \n",
              "4                7.50  "
            ],
            "text/html": [
              "\n",
              "  <div id=\"df-ed8fe94e-1e89-41db-bfcd-1f9a8cfe1e09\">\n",
              "    <div class=\"colab-df-container\">\n",
              "      <div>\n",
              "<style scoped>\n",
              "    .dataframe tbody tr th:only-of-type {\n",
              "        vertical-align: middle;\n",
              "    }\n",
              "\n",
              "    .dataframe tbody tr th {\n",
              "        vertical-align: top;\n",
              "    }\n",
              "\n",
              "    .dataframe thead th {\n",
              "        text-align: right;\n",
              "    }\n",
              "</style>\n",
              "<table border=\"1\" class=\"dataframe\">\n",
              "  <thead>\n",
              "    <tr style=\"text-align: right;\">\n",
              "      <th></th>\n",
              "      <th>Unnamed: 0</th>\n",
              "      <th>CD_ACCOUNT</th>\n",
              "      <th>STATUS2</th>\n",
              "      <th>DAYS_ACC_OPEN</th>\n",
              "      <th>CD_TYPE</th>\n",
              "      <th>VL_CREDIT_RECENCY</th>\n",
              "      <th>VL_DEBIT_RECENCY</th>\n",
              "      <th>VL_TENOR</th>\n",
              "      <th>AVGCREDITTURNOVER_LY</th>\n",
              "      <th>AVGDEBITTURNOVER_LY</th>\n",
              "      <th>AVGCREDIT_TRANS_LY</th>\n",
              "      <th>AVGDEBIT_TRANS_LY</th>\n",
              "      <th>AVGCREDITTURNOVER_LY2</th>\n",
              "      <th>AVGDEBITTURNOVER_LY2</th>\n",
              "      <th>AVGCREDIT_TRANS_LY2</th>\n",
              "      <th>AVGDEBIT_TRANS_LY2</th>\n",
              "    </tr>\n",
              "  </thead>\n",
              "  <tbody>\n",
              "    <tr>\n",
              "      <th>0</th>\n",
              "      <td>0</td>\n",
              "      <td>1100000000000.0</td>\n",
              "      <td>NOT CHURNED</td>\n",
              "      <td>6173</td>\n",
              "      <td>1062</td>\n",
              "      <td>21.0</td>\n",
              "      <td>0.0</td>\n",
              "      <td>6170.0</td>\n",
              "      <td>438197.26</td>\n",
              "      <td>-474788.26</td>\n",
              "      <td>3.08</td>\n",
              "      <td>93.66</td>\n",
              "      <td>720779.28</td>\n",
              "      <td>-748023.72</td>\n",
              "      <td>6.33</td>\n",
              "      <td>133.41</td>\n",
              "    </tr>\n",
              "    <tr>\n",
              "      <th>1</th>\n",
              "      <td>1</td>\n",
              "      <td>1100000000000.0</td>\n",
              "      <td>CHURNED</td>\n",
              "      <td>6163</td>\n",
              "      <td>1062</td>\n",
              "      <td>313.0</td>\n",
              "      <td>0.0</td>\n",
              "      <td>6118.0</td>\n",
              "      <td>1666.66</td>\n",
              "      <td>-6590.41</td>\n",
              "      <td>0.16</td>\n",
              "      <td>1.25</td>\n",
              "      <td>1666.66</td>\n",
              "      <td>-9322.83</td>\n",
              "      <td>0.16</td>\n",
              "      <td>3.08</td>\n",
              "    </tr>\n",
              "    <tr>\n",
              "      <th>2</th>\n",
              "      <td>2</td>\n",
              "      <td>1100000000000.0</td>\n",
              "      <td>CHURNED</td>\n",
              "      <td>6152</td>\n",
              "      <td>1062</td>\n",
              "      <td>2126.0</td>\n",
              "      <td>1949.0</td>\n",
              "      <td>6132.0</td>\n",
              "      <td>0.00</td>\n",
              "      <td>0.00</td>\n",
              "      <td>0.00</td>\n",
              "      <td>0.00</td>\n",
              "      <td>0.00</td>\n",
              "      <td>0.00</td>\n",
              "      <td>0.00</td>\n",
              "      <td>0.00</td>\n",
              "    </tr>\n",
              "    <tr>\n",
              "      <th>3</th>\n",
              "      <td>3</td>\n",
              "      <td>1100000000000.0</td>\n",
              "      <td>CHURNED</td>\n",
              "      <td>6124</td>\n",
              "      <td>1062</td>\n",
              "      <td>982.0</td>\n",
              "      <td>0.0</td>\n",
              "      <td>5770.0</td>\n",
              "      <td>0.00</td>\n",
              "      <td>-1220.00</td>\n",
              "      <td>0.00</td>\n",
              "      <td>0.41</td>\n",
              "      <td>0.00</td>\n",
              "      <td>-2102.00</td>\n",
              "      <td>0.00</td>\n",
              "      <td>0.91</td>\n",
              "    </tr>\n",
              "    <tr>\n",
              "      <th>4</th>\n",
              "      <td>4</td>\n",
              "      <td>1100000000000.0</td>\n",
              "      <td>NOT CHURNED</td>\n",
              "      <td>6117</td>\n",
              "      <td>1062</td>\n",
              "      <td>0.0</td>\n",
              "      <td>0.0</td>\n",
              "      <td>6091.0</td>\n",
              "      <td>4126.41</td>\n",
              "      <td>-200.50</td>\n",
              "      <td>1.08</td>\n",
              "      <td>3.66</td>\n",
              "      <td>7935.41</td>\n",
              "      <td>-395.00</td>\n",
              "      <td>2.08</td>\n",
              "      <td>7.50</td>\n",
              "    </tr>\n",
              "  </tbody>\n",
              "</table>\n",
              "</div>\n",
              "      <button class=\"colab-df-convert\" onclick=\"convertToInteractive('df-ed8fe94e-1e89-41db-bfcd-1f9a8cfe1e09')\"\n",
              "              title=\"Convert this dataframe to an interactive table.\"\n",
              "              style=\"display:none;\">\n",
              "        \n",
              "  <svg xmlns=\"http://www.w3.org/2000/svg\" height=\"24px\"viewBox=\"0 0 24 24\"\n",
              "       width=\"24px\">\n",
              "    <path d=\"M0 0h24v24H0V0z\" fill=\"none\"/>\n",
              "    <path d=\"M18.56 5.44l.94 2.06.94-2.06 2.06-.94-2.06-.94-.94-2.06-.94 2.06-2.06.94zm-11 1L8.5 8.5l.94-2.06 2.06-.94-2.06-.94L8.5 2.5l-.94 2.06-2.06.94zm10 10l.94 2.06.94-2.06 2.06-.94-2.06-.94-.94-2.06-.94 2.06-2.06.94z\"/><path d=\"M17.41 7.96l-1.37-1.37c-.4-.4-.92-.59-1.43-.59-.52 0-1.04.2-1.43.59L10.3 9.45l-7.72 7.72c-.78.78-.78 2.05 0 2.83L4 21.41c.39.39.9.59 1.41.59.51 0 1.02-.2 1.41-.59l7.78-7.78 2.81-2.81c.8-.78.8-2.07 0-2.86zM5.41 20L4 18.59l7.72-7.72 1.47 1.35L5.41 20z\"/>\n",
              "  </svg>\n",
              "      </button>\n",
              "      \n",
              "  <style>\n",
              "    .colab-df-container {\n",
              "      display:flex;\n",
              "      flex-wrap:wrap;\n",
              "      gap: 12px;\n",
              "    }\n",
              "\n",
              "    .colab-df-convert {\n",
              "      background-color: #E8F0FE;\n",
              "      border: none;\n",
              "      border-radius: 50%;\n",
              "      cursor: pointer;\n",
              "      display: none;\n",
              "      fill: #1967D2;\n",
              "      height: 32px;\n",
              "      padding: 0 0 0 0;\n",
              "      width: 32px;\n",
              "    }\n",
              "\n",
              "    .colab-df-convert:hover {\n",
              "      background-color: #E2EBFA;\n",
              "      box-shadow: 0px 1px 2px rgba(60, 64, 67, 0.3), 0px 1px 3px 1px rgba(60, 64, 67, 0.15);\n",
              "      fill: #174EA6;\n",
              "    }\n",
              "\n",
              "    [theme=dark] .colab-df-convert {\n",
              "      background-color: #3B4455;\n",
              "      fill: #D2E3FC;\n",
              "    }\n",
              "\n",
              "    [theme=dark] .colab-df-convert:hover {\n",
              "      background-color: #434B5C;\n",
              "      box-shadow: 0px 1px 3px 1px rgba(0, 0, 0, 0.15);\n",
              "      filter: drop-shadow(0px 1px 2px rgba(0, 0, 0, 0.3));\n",
              "      fill: #FFFFFF;\n",
              "    }\n",
              "  </style>\n",
              "\n",
              "      <script>\n",
              "        const buttonEl =\n",
              "          document.querySelector('#df-ed8fe94e-1e89-41db-bfcd-1f9a8cfe1e09 button.colab-df-convert');\n",
              "        buttonEl.style.display =\n",
              "          google.colab.kernel.accessAllowed ? 'block' : 'none';\n",
              "\n",
              "        async function convertToInteractive(key) {\n",
              "          const element = document.querySelector('#df-ed8fe94e-1e89-41db-bfcd-1f9a8cfe1e09');\n",
              "          const dataTable =\n",
              "            await google.colab.kernel.invokeFunction('convertToInteractive',\n",
              "                                                     [key], {});\n",
              "          if (!dataTable) return;\n",
              "\n",
              "          const docLinkHtml = 'Like what you see? Visit the ' +\n",
              "            '<a target=\"_blank\" href=https://colab.research.google.com/notebooks/data_table.ipynb>data table notebook</a>'\n",
              "            + ' to learn more about interactive tables.';\n",
              "          element.innerHTML = '';\n",
              "          dataTable['output_type'] = 'display_data';\n",
              "          await google.colab.output.renderOutput(dataTable, element);\n",
              "          const docLink = document.createElement('div');\n",
              "          docLink.innerHTML = docLinkHtml;\n",
              "          element.appendChild(docLink);\n",
              "        }\n",
              "      </script>\n",
              "    </div>\n",
              "  </div>\n",
              "  "
            ]
          },
          "metadata": {},
          "execution_count": 3
        }
      ]
    },
    {
      "cell_type": "code",
      "source": [
        "print(df.dtypes)"
      ],
      "metadata": {
        "colab": {
          "base_uri": "https://localhost:8080/"
        },
        "id": "Jk3Hqrp04bZG",
        "outputId": "cfbf9186-43a9-4cc5-fe4d-ac2f7a5f4fa5"
      },
      "execution_count": null,
      "outputs": [
        {
          "output_type": "stream",
          "name": "stdout",
          "text": [
            "Unnamed: 0                 int64\n",
            "CD_ACCOUNT                object\n",
            "STATUS2                   object\n",
            "DAYS_ACC_OPEN              int64\n",
            "CD_TYPE                    int64\n",
            "VL_CREDIT_RECENCY        float64\n",
            "VL_DEBIT_RECENCY         float64\n",
            "VL_TENOR                 float64\n",
            "AVGCREDITTURNOVER_LY     float64\n",
            "AVGDEBITTURNOVER_LY      float64\n",
            "AVGCREDIT_TRANS_LY       float64\n",
            "AVGDEBIT_TRANS_LY        float64\n",
            "AVGCREDITTURNOVER_LY2    float64\n",
            "AVGDEBITTURNOVER_LY2     float64\n",
            "AVGCREDIT_TRANS_LY2      float64\n",
            "AVGDEBIT_TRANS_LY2       float64\n",
            "dtype: object\n"
          ]
        }
      ]
    },
    {
      "cell_type": "code",
      "source": [
        "if 'Unnamed: 0' in df.columns:\n",
        "  df = df.drop(columns = ['Unnamed: 0'])"
      ],
      "metadata": {
        "id": "S4YNrP6-4bPW"
      },
      "execution_count": null,
      "outputs": []
    },
    {
      "cell_type": "code",
      "source": [
        "df.isna().sum().sum()"
      ],
      "metadata": {
        "colab": {
          "base_uri": "https://localhost:8080/"
        },
        "id": "EmO2Nv9t4mVo",
        "outputId": "83c2003b-6513-4a62-c17b-1656b443111a"
      },
      "execution_count": null,
      "outputs": [
        {
          "output_type": "execute_result",
          "data": {
            "text/plain": [
              "0"
            ]
          },
          "metadata": {},
          "execution_count": 6
        }
      ]
    },
    {
      "cell_type": "code",
      "source": [
        "df.describe()"
      ],
      "metadata": {
        "colab": {
          "base_uri": "https://localhost:8080/",
          "height": 361
        },
        "id": "PDN5ooVP402c",
        "outputId": "1211937c-d037-45ae-9abf-8941bba8940a"
      },
      "execution_count": null,
      "outputs": [
        {
          "output_type": "execute_result",
          "data": {
            "text/plain": [
              "        DAYS_ACC_OPEN         CD_TYPE  VL_CREDIT_RECENCY  VL_DEBIT_RECENCY  \\\n",
              "count  1000000.000000  1000000.000000     1000000.000000    1000000.000000   \n",
              "mean      2284.078102     1062.066047        1253.543128       1979.869018   \n",
              "std       1737.424068        0.248364        4144.026051       5478.787665   \n",
              "min         20.000000     1062.000000        -300.000000        -81.000000   \n",
              "25%        762.000000     1062.000000           0.000000          0.000000   \n",
              "50%       1972.000000     1062.000000          26.000000          0.000000   \n",
              "75%       3461.000000     1062.000000         392.000000        378.000000   \n",
              "max      44655.000000     1063.000000       19406.000000      19407.000000   \n",
              "\n",
              "             VL_TENOR  AVGCREDITTURNOVER_LY  AVGDEBITTURNOVER_LY  \\\n",
              "count  1000000.000000          1.000000e+06         1.000000e+06   \n",
              "mean      1990.893697          6.199422e+04        -6.279789e+04   \n",
              "std       2768.767119          8.613043e+06         8.593854e+06   \n",
              "min     -19388.000000         -2.564250e+04        -6.375980e+09   \n",
              "25%        684.000000          0.000000e+00        -1.022263e+04   \n",
              "50%       1818.000000          2.416600e+02        -1.625000e+02   \n",
              "75%       3391.000000          9.986130e+03         0.000000e+00   \n",
              "max      44653.000000          6.375964e+09         1.563590e+03   \n",
              "\n",
              "       AVGCREDIT_TRANS_LY  AVGDEBIT_TRANS_LY  AVGCREDITTURNOVER_LY2  \\\n",
              "count      1000000.000000     1000000.000000           1.000000e+06   \n",
              "mean             2.469594           4.593288           2.075194e+05   \n",
              "std             49.061543          17.684722           9.422977e+07   \n",
              "min             -0.080000           0.000000          -2.564250e+04   \n",
              "25%              0.000000           0.080000           2.080000e+00   \n",
              "50%              0.330000           0.580000           1.531630e+03   \n",
              "75%              0.910000           3.910000           2.098290e+04   \n",
              "max          25433.250000       12109.330000           9.306696e+10   \n",
              "\n",
              "       AVGDEBITTURNOVER_LY2  AVGCREDIT_TRANS_LY2  AVGDEBIT_TRANS_LY2  \n",
              "count          1.000000e+06       1000000.000000      1000000.000000  \n",
              "mean          -2.086299e+05             4.622181            8.833637  \n",
              "std            9.423014e+07            90.504225           29.221068  \n",
              "min           -9.306696e+10            -0.080000            0.000000  \n",
              "25%           -2.114132e+04             0.080000            0.250000  \n",
              "50%           -1.333330e+03             0.580000            1.160000  \n",
              "75%           -3.100000e-01             1.660000            7.410000  \n",
              "max            1.563590e+03         47800.660000        15476.660000  "
            ],
            "text/html": [
              "\n",
              "  <div id=\"df-d26362a6-dc79-417d-ad54-1ae5322e4983\">\n",
              "    <div class=\"colab-df-container\">\n",
              "      <div>\n",
              "<style scoped>\n",
              "    .dataframe tbody tr th:only-of-type {\n",
              "        vertical-align: middle;\n",
              "    }\n",
              "\n",
              "    .dataframe tbody tr th {\n",
              "        vertical-align: top;\n",
              "    }\n",
              "\n",
              "    .dataframe thead th {\n",
              "        text-align: right;\n",
              "    }\n",
              "</style>\n",
              "<table border=\"1\" class=\"dataframe\">\n",
              "  <thead>\n",
              "    <tr style=\"text-align: right;\">\n",
              "      <th></th>\n",
              "      <th>DAYS_ACC_OPEN</th>\n",
              "      <th>CD_TYPE</th>\n",
              "      <th>VL_CREDIT_RECENCY</th>\n",
              "      <th>VL_DEBIT_RECENCY</th>\n",
              "      <th>VL_TENOR</th>\n",
              "      <th>AVGCREDITTURNOVER_LY</th>\n",
              "      <th>AVGDEBITTURNOVER_LY</th>\n",
              "      <th>AVGCREDIT_TRANS_LY</th>\n",
              "      <th>AVGDEBIT_TRANS_LY</th>\n",
              "      <th>AVGCREDITTURNOVER_LY2</th>\n",
              "      <th>AVGDEBITTURNOVER_LY2</th>\n",
              "      <th>AVGCREDIT_TRANS_LY2</th>\n",
              "      <th>AVGDEBIT_TRANS_LY2</th>\n",
              "    </tr>\n",
              "  </thead>\n",
              "  <tbody>\n",
              "    <tr>\n",
              "      <th>count</th>\n",
              "      <td>1000000.000000</td>\n",
              "      <td>1000000.000000</td>\n",
              "      <td>1000000.000000</td>\n",
              "      <td>1000000.000000</td>\n",
              "      <td>1000000.000000</td>\n",
              "      <td>1.000000e+06</td>\n",
              "      <td>1.000000e+06</td>\n",
              "      <td>1000000.000000</td>\n",
              "      <td>1000000.000000</td>\n",
              "      <td>1.000000e+06</td>\n",
              "      <td>1.000000e+06</td>\n",
              "      <td>1000000.000000</td>\n",
              "      <td>1000000.000000</td>\n",
              "    </tr>\n",
              "    <tr>\n",
              "      <th>mean</th>\n",
              "      <td>2284.078102</td>\n",
              "      <td>1062.066047</td>\n",
              "      <td>1253.543128</td>\n",
              "      <td>1979.869018</td>\n",
              "      <td>1990.893697</td>\n",
              "      <td>6.199422e+04</td>\n",
              "      <td>-6.279789e+04</td>\n",
              "      <td>2.469594</td>\n",
              "      <td>4.593288</td>\n",
              "      <td>2.075194e+05</td>\n",
              "      <td>-2.086299e+05</td>\n",
              "      <td>4.622181</td>\n",
              "      <td>8.833637</td>\n",
              "    </tr>\n",
              "    <tr>\n",
              "      <th>std</th>\n",
              "      <td>1737.424068</td>\n",
              "      <td>0.248364</td>\n",
              "      <td>4144.026051</td>\n",
              "      <td>5478.787665</td>\n",
              "      <td>2768.767119</td>\n",
              "      <td>8.613043e+06</td>\n",
              "      <td>8.593854e+06</td>\n",
              "      <td>49.061543</td>\n",
              "      <td>17.684722</td>\n",
              "      <td>9.422977e+07</td>\n",
              "      <td>9.423014e+07</td>\n",
              "      <td>90.504225</td>\n",
              "      <td>29.221068</td>\n",
              "    </tr>\n",
              "    <tr>\n",
              "      <th>min</th>\n",
              "      <td>20.000000</td>\n",
              "      <td>1062.000000</td>\n",
              "      <td>-300.000000</td>\n",
              "      <td>-81.000000</td>\n",
              "      <td>-19388.000000</td>\n",
              "      <td>-2.564250e+04</td>\n",
              "      <td>-6.375980e+09</td>\n",
              "      <td>-0.080000</td>\n",
              "      <td>0.000000</td>\n",
              "      <td>-2.564250e+04</td>\n",
              "      <td>-9.306696e+10</td>\n",
              "      <td>-0.080000</td>\n",
              "      <td>0.000000</td>\n",
              "    </tr>\n",
              "    <tr>\n",
              "      <th>25%</th>\n",
              "      <td>762.000000</td>\n",
              "      <td>1062.000000</td>\n",
              "      <td>0.000000</td>\n",
              "      <td>0.000000</td>\n",
              "      <td>684.000000</td>\n",
              "      <td>0.000000e+00</td>\n",
              "      <td>-1.022263e+04</td>\n",
              "      <td>0.000000</td>\n",
              "      <td>0.080000</td>\n",
              "      <td>2.080000e+00</td>\n",
              "      <td>-2.114132e+04</td>\n",
              "      <td>0.080000</td>\n",
              "      <td>0.250000</td>\n",
              "    </tr>\n",
              "    <tr>\n",
              "      <th>50%</th>\n",
              "      <td>1972.000000</td>\n",
              "      <td>1062.000000</td>\n",
              "      <td>26.000000</td>\n",
              "      <td>0.000000</td>\n",
              "      <td>1818.000000</td>\n",
              "      <td>2.416600e+02</td>\n",
              "      <td>-1.625000e+02</td>\n",
              "      <td>0.330000</td>\n",
              "      <td>0.580000</td>\n",
              "      <td>1.531630e+03</td>\n",
              "      <td>-1.333330e+03</td>\n",
              "      <td>0.580000</td>\n",
              "      <td>1.160000</td>\n",
              "    </tr>\n",
              "    <tr>\n",
              "      <th>75%</th>\n",
              "      <td>3461.000000</td>\n",
              "      <td>1062.000000</td>\n",
              "      <td>392.000000</td>\n",
              "      <td>378.000000</td>\n",
              "      <td>3391.000000</td>\n",
              "      <td>9.986130e+03</td>\n",
              "      <td>0.000000e+00</td>\n",
              "      <td>0.910000</td>\n",
              "      <td>3.910000</td>\n",
              "      <td>2.098290e+04</td>\n",
              "      <td>-3.100000e-01</td>\n",
              "      <td>1.660000</td>\n",
              "      <td>7.410000</td>\n",
              "    </tr>\n",
              "    <tr>\n",
              "      <th>max</th>\n",
              "      <td>44655.000000</td>\n",
              "      <td>1063.000000</td>\n",
              "      <td>19406.000000</td>\n",
              "      <td>19407.000000</td>\n",
              "      <td>44653.000000</td>\n",
              "      <td>6.375964e+09</td>\n",
              "      <td>1.563590e+03</td>\n",
              "      <td>25433.250000</td>\n",
              "      <td>12109.330000</td>\n",
              "      <td>9.306696e+10</td>\n",
              "      <td>1.563590e+03</td>\n",
              "      <td>47800.660000</td>\n",
              "      <td>15476.660000</td>\n",
              "    </tr>\n",
              "  </tbody>\n",
              "</table>\n",
              "</div>\n",
              "      <button class=\"colab-df-convert\" onclick=\"convertToInteractive('df-d26362a6-dc79-417d-ad54-1ae5322e4983')\"\n",
              "              title=\"Convert this dataframe to an interactive table.\"\n",
              "              style=\"display:none;\">\n",
              "        \n",
              "  <svg xmlns=\"http://www.w3.org/2000/svg\" height=\"24px\"viewBox=\"0 0 24 24\"\n",
              "       width=\"24px\">\n",
              "    <path d=\"M0 0h24v24H0V0z\" fill=\"none\"/>\n",
              "    <path d=\"M18.56 5.44l.94 2.06.94-2.06 2.06-.94-2.06-.94-.94-2.06-.94 2.06-2.06.94zm-11 1L8.5 8.5l.94-2.06 2.06-.94-2.06-.94L8.5 2.5l-.94 2.06-2.06.94zm10 10l.94 2.06.94-2.06 2.06-.94-2.06-.94-.94-2.06-.94 2.06-2.06.94z\"/><path d=\"M17.41 7.96l-1.37-1.37c-.4-.4-.92-.59-1.43-.59-.52 0-1.04.2-1.43.59L10.3 9.45l-7.72 7.72c-.78.78-.78 2.05 0 2.83L4 21.41c.39.39.9.59 1.41.59.51 0 1.02-.2 1.41-.59l7.78-7.78 2.81-2.81c.8-.78.8-2.07 0-2.86zM5.41 20L4 18.59l7.72-7.72 1.47 1.35L5.41 20z\"/>\n",
              "  </svg>\n",
              "      </button>\n",
              "      \n",
              "  <style>\n",
              "    .colab-df-container {\n",
              "      display:flex;\n",
              "      flex-wrap:wrap;\n",
              "      gap: 12px;\n",
              "    }\n",
              "\n",
              "    .colab-df-convert {\n",
              "      background-color: #E8F0FE;\n",
              "      border: none;\n",
              "      border-radius: 50%;\n",
              "      cursor: pointer;\n",
              "      display: none;\n",
              "      fill: #1967D2;\n",
              "      height: 32px;\n",
              "      padding: 0 0 0 0;\n",
              "      width: 32px;\n",
              "    }\n",
              "\n",
              "    .colab-df-convert:hover {\n",
              "      background-color: #E2EBFA;\n",
              "      box-shadow: 0px 1px 2px rgba(60, 64, 67, 0.3), 0px 1px 3px 1px rgba(60, 64, 67, 0.15);\n",
              "      fill: #174EA6;\n",
              "    }\n",
              "\n",
              "    [theme=dark] .colab-df-convert {\n",
              "      background-color: #3B4455;\n",
              "      fill: #D2E3FC;\n",
              "    }\n",
              "\n",
              "    [theme=dark] .colab-df-convert:hover {\n",
              "      background-color: #434B5C;\n",
              "      box-shadow: 0px 1px 3px 1px rgba(0, 0, 0, 0.15);\n",
              "      filter: drop-shadow(0px 1px 2px rgba(0, 0, 0, 0.3));\n",
              "      fill: #FFFFFF;\n",
              "    }\n",
              "  </style>\n",
              "\n",
              "      <script>\n",
              "        const buttonEl =\n",
              "          document.querySelector('#df-d26362a6-dc79-417d-ad54-1ae5322e4983 button.colab-df-convert');\n",
              "        buttonEl.style.display =\n",
              "          google.colab.kernel.accessAllowed ? 'block' : 'none';\n",
              "\n",
              "        async function convertToInteractive(key) {\n",
              "          const element = document.querySelector('#df-d26362a6-dc79-417d-ad54-1ae5322e4983');\n",
              "          const dataTable =\n",
              "            await google.colab.kernel.invokeFunction('convertToInteractive',\n",
              "                                                     [key], {});\n",
              "          if (!dataTable) return;\n",
              "\n",
              "          const docLinkHtml = 'Like what you see? Visit the ' +\n",
              "            '<a target=\"_blank\" href=https://colab.research.google.com/notebooks/data_table.ipynb>data table notebook</a>'\n",
              "            + ' to learn more about interactive tables.';\n",
              "          element.innerHTML = '';\n",
              "          dataTable['output_type'] = 'display_data';\n",
              "          await google.colab.output.renderOutput(dataTable, element);\n",
              "          const docLink = document.createElement('div');\n",
              "          docLink.innerHTML = docLinkHtml;\n",
              "          element.appendChild(docLink);\n",
              "        }\n",
              "      </script>\n",
              "    </div>\n",
              "  </div>\n",
              "  "
            ]
          },
          "metadata": {},
          "execution_count": 7
        }
      ]
    },
    {
      "cell_type": "code",
      "source": [
        "corr = df.corr()\n",
        "\n",
        "plt.figure(figsize = (20, 10))\n",
        "plt.imshow(corr, cmap = 'coolwarm', interpolation = 'none')\n",
        "plt.colorbar()\n",
        "plt.xticks(range(len(corr)), corr.columns, rotation = 90)\n",
        "plt.yticks(range(len(corr)), corr.columns)\n",
        "plt.title('Correlation Matrix')\n",
        "plt.show()"
      ],
      "metadata": {
        "colab": {
          "base_uri": "https://localhost:8080/",
          "height": 732
        },
        "id": "2uR0CrbV6bEn",
        "outputId": "81e79710-2401-4b48-d3a0-3b3716844e1d"
      },
      "execution_count": null,
      "outputs": [
        {
          "output_type": "display_data",
          "data": {
            "text/plain": [
              "<Figure size 1440x720 with 2 Axes>"
            ],
            "image/png": "[encoded data removed]"
          },
          "metadata": {
            "needs_background": "light"
          }
        }
      ]
    },
    {
      "cell_type": "code",
      "source": [
        "sns.countplot(x = 'STATUS2', data = df)"
      ],
      "metadata": {
        "colab": {
          "base_uri": "https://localhost:8080/",
          "height": 296
        },
        "id": "hdidj9Iw5EO8",
        "outputId": "f5e7c8e4-3e29-42dc-ebb6-defad5e753a2"
      },
      "execution_count": null,
      "outputs": [
        {
          "output_type": "execute_result",
          "data": {
            "text/plain": [
              "<AxesSubplot:xlabel='STATUS2', ylabel='count'>"
            ]
          },
          "metadata": {},
          "execution_count": 9
        },
        {
          "output_type": "display_data",
          "data": {
            "text/plain": [
              "<Figure size 432x288 with 1 Axes>"
            ],
            "image/png": "[encoded data removed]"
          },
          "metadata": {
            "needs_background": "light"
          }
        }
      ]
    },
    {
      "cell_type": "code",
      "source": [
        "df['STATUS2'] = df['STATUS2'].map({'CHURNED': 1, 'NOT CHURNED': 0})\n",
        "df['STATUS2'].value_counts()"
      ],
      "metadata": {
        "colab": {
          "base_uri": "https://localhost:8080/"
        },
        "id": "rahILwmH5N5y",
        "outputId": "9eafb07c-6aac-42cf-ffb6-efa28824bc58"
      },
      "execution_count": null,
      "outputs": [
        {
          "output_type": "execute_result",
          "data": {
            "text/plain": [
              "0    500000\n",
              "1    500000\n",
              "Name: STATUS2, dtype: int64"
            ]
          },
          "metadata": {},
          "execution_count": 10
        }
      ]
    },
    {
      "cell_type": "code",
      "source": [
        "df.drop(['CD_ACCOUNT'], axis = 1, inplace = True)"
      ],
      "metadata": {
        "id": "RTzgB31U6hDM"
      },
      "execution_count": null,
      "outputs": []
    },
    {
      "cell_type": "code",
      "source": [
        "X = df.drop('STATUS2', axis = 1)\n",
        "y = df['STATUS2']\n",
        "\n",
        "X_train, X_test, y_train, y_test = train_test_split(X, y, test_size = 0.2, random_state = 42)"
      ],
      "metadata": {
        "id": "4A0q3I4p5tBI"
      },
      "execution_count": null,
      "outputs": []
    },
    {
      "cell_type": "code",
      "source": [
        "gb_model = GradientBoostingClassifier(n_estimators = 100, learning_rate = 0.1, max_depth = 3)\n",
        "\n",
        "gb_model.fit(X_train, y_train)"
      ],
      "metadata": {
        "id": "vs3x1edY6E75",
        "colab": {
          "base_uri": "https://localhost:8080/"
        },
        "outputId": "9a4c5302-5dcb-46e5-c886-21645272e1d5"
      },
      "execution_count": null,
      "outputs": [
        {
          "output_type": "execute_result",
          "data": {
            "text/plain": [
              "GradientBoostingClassifier()"
            ]
          },
          "metadata": {},
          "execution_count": 13
        }
      ]
    },
    {
      "cell_type": "code",
      "source": [
        "y_pred = gb_model.predict(X_test)\n",
        "\n",
        "accuracy = accuracy_score(y_test, y_pred)\n",
        "print(f\"Accuracy: {accuracy}\")"
      ],
      "metadata": {
        "id": "njH9DLOj6tHL",
        "colab": {
          "base_uri": "https://localhost:8080/"
        },
        "outputId": "738bd0ea-8ef1-4238-eb4e-1006af45ee7d"
      },
      "execution_count": null,
      "outputs": [
        {
          "output_type": "stream",
          "name": "stdout",
          "text": [
            "Accuracy: 1.0\n"
          ]
        }
      ]
    },
    {
      "cell_type": "code",
      "source": [
        "cm = confusion_matrix(y_test, y_pred)\n",
        "print(f\"Confusion Matrix: \\n{cm}\")"
      ],
      "metadata": {
        "id": "P39A6F-D7Pm4",
        "colab": {
          "base_uri": "https://localhost:8080/"
        },
        "outputId": "11bdbc01-2af9-4918-cbe8-1e769daf4ccc"
      },
      "execution_count": null,
      "outputs": [
        {
          "output_type": "stream",
          "name": "stdout",
          "text": [
            "Confusion Matrix: \n",
            "[[100310      0]\n",
            " [     0  99690]]\n"
          ]
        }
      ]
    },
    {
      "cell_type": "code",
      "source": [
        "fig, ax = plt.subplots(figsize = (12, 7))\n",
        "ax.matshow(cm, cmap = plt.cm.Blues, alpha = 0.3)\n",
        "for i in range(cm.shape[0]):\n",
        "  for j in range(cm.shape[1]):\n",
        "    ax.text(x = j, y = i, s = cm[i, j], va = 'center', ha = 'center', size = 'xx-large')\n",
        "\n",
        "plt.xlabel('Predictions', fontsize = 18)\n",
        "plt.ylabel('Actuals', fontsize = 18)\n",
        "plt.title('Confusion Matrix', fontsize = 18)\n",
        "plt.show()"
      ],
      "metadata": {
        "id": "fM8VwlDC8E4f",
        "colab": {
          "base_uri": "https://localhost:8080/",
          "height": 474
        },
        "outputId": "e1cbee10-fd67-42f5-fd23-0ffbf2ab6bfd"
      },
      "execution_count": null,
      "outputs": [
        {
          "output_type": "display_data",
          "data": {
            "text/plain": [
              "<Figure size 864x504 with 1 Axes>"
            ],
            "image/png": "[encoded data removed]"
          },
          "metadata": {
            "needs_background": "light"
          }
        }
      ]
    },
    {
      "cell_type": "code",
      "source": [
        "cr = classification_report(y_test, y_pred)\n",
        "print(f\"Classification Report: \\n{cr}\")"
      ],
      "metadata": {
        "id": "y1eCptB_7QIv",
        "colab": {
          "base_uri": "https://localhost:8080/"
        },
        "outputId": "5b4f6d66-bb02-4711-c0b7-1a9f4e7226bb"
      },
      "execution_count": null,
      "outputs": [
        {
          "output_type": "stream",
          "name": "stdout",
          "text": [
            "Classification Report: \n",
            "              precision    recall  f1-score   support\n",
            "\n",
            "           0       1.00      1.00      1.00    100310\n",
            "           1       1.00      1.00      1.00     99690\n",
            "\n",
            "    accuracy                           1.00    200000\n",
            "   macro avg       1.00      1.00      1.00    200000\n",
            "weighted avg       1.00      1.00      1.00    200000\n",
            "\n"
          ]
        }
      ]
    },
    {
      "cell_type": "code",
      "source": [
        "with open('gb_model.pkl', 'wb') as f:\n",
        "  pickle.dump(gb_model, f)"
      ],
      "metadata": {
        "id": "Obc9BHcZZCEN"
      },
      "execution_count": null,
      "outputs": []
    },
    {
      "cell_type": "code",
      "source": [
        "from google.colab import files\n",
        "files.download('gb_model.pkl')"
      ],
      "metadata": {
        "colab": {
          "base_uri": "https://localhost:8080/",
          "height": 17
        },
        "id": "Hnt5-BHLZKXb",
        "outputId": "d2a243f0-381a-423d-86fc-1060fc47eed3"
      },
      "execution_count": null,
      "outputs": [
        {
          "output_type": "display_data",
          "data": {
            "text/plain": [
              "<IPython.core.display.Javascript object>"
            ],
            "application/javascript": [
              "\n",
              "    async function download(id, filename, size) {\n",
              "      if (!google.colab.kernel.accessAllowed) {\n",
              "        return;\n",
              "      }\n",
              "      const div = document.createElement('div');\n",
              "      const label = document.createElement('label');\n",
              "      label.textContent = `Downloading \"${filename}\": `;\n",
              "      div.appendChild(label);\n",
              "      const progress = document.createElement('progress');\n",
              "      progress.max = size;\n",
              "      div.appendChild(progress);\n",
              "      document.body.appendChild(div);\n",
              "\n",
              "      const buffers = [];\n",
              "      let downloaded = 0;\n",
              "\n",
              "      const channel = await google.colab.kernel.comms.open(id);\n",
              "      // Send a message to notify the kernel that we're ready.\n",
              "      channel.send({})\n",
              "\n",
              "      for await (const message of channel.messages) {\n",
              "        // Send a message to notify the kernel that we're ready.\n",
              "        channel.send({})\n",
              "        if (message.buffers) {\n",
              "          for (const buffer of message.buffers) {\n",
              "            buffers.push(buffer);\n",
              "            downloaded += buffer.byteLength;\n",
              "            progress.value = downloaded;\n",
              "          }\n",
              "        }\n",
              "      }\n",
              "      const blob = new Blob(buffers, {type: 'application/binary'});\n",
              "      const a = document.createElement('a');\n",
              "      a.href = window.URL.createObjectURL(blob);\n",
              "      a.download = filename;\n",
              "      div.appendChild(a);\n",
              "      a.click();\n",
              "      div.remove();\n",
              "    }\n",
              "  "
            ]
          },
          "metadata": {}
        },
        {
          "output_type": "display_data",
          "data": {
            "text/plain": [
              "<IPython.core.display.Javascript object>"
            ],
            "application/javascript": [
              "download(\"download_5314e2ad-30d3-4126-80f1-ed7402ee6abb\", \"gb_model.pkl\", 72712)"
            ]
          },
          "metadata": {}
        }
      ]
    }
  ]
}